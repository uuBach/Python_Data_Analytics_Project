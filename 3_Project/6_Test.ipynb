{
 "cells": [
  {
   "cell_type": "code",
   "execution_count": 2,
   "id": "8a3b2cc4",
   "metadata": {},
   "outputs": [
    {
     "name": "stderr",
     "output_type": "stream",
     "text": [
      "/Volumes/BigBox/Python/anaconda3/envs/my_project_env/lib/python3.13/site-packages/tqdm/auto.py:21: TqdmWarning: IProgress not found. Please update jupyter and ipywidgets. See https://ipywidgets.readthedocs.io/en/stable/user_install.html\n",
      "  from .autonotebook import tqdm as notebook_tqdm\n"
     ]
    }
   ],
   "source": [
    "import ast\n",
    "import seaborn as sns\n",
    "import pandas as pd\n",
    "from datasets import load_dataset\n",
    "import matplotlib.pyplot as plt\n",
    "\n",
    "dataset = load_dataset('lukebarousse/data_jobs')\n",
    "df = dataset['train'].to_pandas()\n",
    "\n",
    "df['job_posted_date'] = pd.to_datetime(df['job_posted_date'])\n",
    "df['job_skills'] = df['job_skills'].apply(lambda skill: ast.literal_eval(skill) if pd.notna(skill) else skill)"
   ]
  },
  {
   "cell_type": "code",
   "execution_count": 3,
   "id": "b32e4f47",
   "metadata": {},
   "outputs": [],
   "source": [
    "df_DA_US = df[(df['job_country']  == 'United States') & (df['job_title_short'] == 'Data Analyst')]"
   ]
  },
  {
   "cell_type": "code",
   "execution_count": 6,
   "id": "e90d4f6c",
   "metadata": {},
   "outputs": [
    {
     "name": "stderr",
     "output_type": "stream",
     "text": [
      "/var/folders/9s/gf5r5sm16hg7qm1m86byhk9w0000gn/T/ipykernel_12851/771632673.py:1: SettingWithCopyWarning: \n",
      "A value is trying to be set on a copy of a slice from a DataFrame\n",
      "\n",
      "See the caveats in the documentation: https://pandas.pydata.org/pandas-docs/stable/user_guide/indexing.html#returning-a-view-versus-a-copy\n",
      "  df_DA_US.dropna(subset = ['salary_year_avg'], inplace=True)\n"
     ]
    }
   ],
   "source": [
    "df_DA_US.dropna(subset = ['salary_year_avg'], inplace=True)"
   ]
  },
  {
   "cell_type": "code",
   "execution_count": 7,
   "id": "69f5e52d",
   "metadata": {},
   "outputs": [],
   "source": [
    "df_DA_US_skills = df_DA_US.explode('job_skills')"
   ]
  },
  {
   "cell_type": "code",
   "execution_count": 12,
   "id": "f147caf0",
   "metadata": {},
   "outputs": [],
   "source": [
    "df_median_skill_salary =  df_DA_US_skills.groupby('job_skills')['salary_year_avg'].median().reset_index(name='median_salary')"
   ]
  },
  {
   "cell_type": "code",
   "execution_count": 20,
   "id": "a166d6eb",
   "metadata": {},
   "outputs": [],
   "source": [
    "df_skills_percent = df_DA_US_skills['job_skills'].value_counts().reset_index(name='skill_count')"
   ]
  },
  {
   "cell_type": "code",
   "execution_count": 19,
   "id": "a02d5626",
   "metadata": {},
   "outputs": [],
   "source": [
    "total_jobs = df_DA_US['job_title_short'].value_counts().sum()"
   ]
  },
  {
   "cell_type": "code",
   "execution_count": 25,
   "id": "03844d2e",
   "metadata": {},
   "outputs": [],
   "source": [
    "df_skills_percent['skill_percent'] = df_skills_percent['skill_count'].div(total_jobs/100)"
   ]
  },
  {
   "cell_type": "code",
   "execution_count": 42,
   "id": "6bea387b",
   "metadata": {},
   "outputs": [],
   "source": [
    "final_df = df_skills_percent.merge(df_median_skill_salary)"
   ]
  },
  {
   "cell_type": "code",
   "execution_count": 45,
   "id": "1b471b90",
   "metadata": {},
   "outputs": [],
   "source": [
    "final_df = final_df.head(12)"
   ]
  },
  {
   "cell_type": "code",
   "execution_count": 46,
   "id": "6bb2ce27",
   "metadata": {},
   "outputs": [
    {
     "data": {
      "text/html": [
       "<div>\n",
       "<style scoped>\n",
       "    .dataframe tbody tr th:only-of-type {\n",
       "        vertical-align: middle;\n",
       "    }\n",
       "\n",
       "    .dataframe tbody tr th {\n",
       "        vertical-align: top;\n",
       "    }\n",
       "\n",
       "    .dataframe thead th {\n",
       "        text-align: right;\n",
       "    }\n",
       "</style>\n",
       "<table border=\"1\" class=\"dataframe\">\n",
       "  <thead>\n",
       "    <tr style=\"text-align: right;\">\n",
       "      <th></th>\n",
       "      <th>job_skills</th>\n",
       "      <th>skill_count</th>\n",
       "      <th>skill_percent</th>\n",
       "      <th>median_salary</th>\n",
       "    </tr>\n",
       "  </thead>\n",
       "  <tbody>\n",
       "    <tr>\n",
       "      <th>0</th>\n",
       "      <td>sql</td>\n",
       "      <td>2508</td>\n",
       "      <td>57.655172</td>\n",
       "      <td>91000.00</td>\n",
       "    </tr>\n",
       "    <tr>\n",
       "      <th>1</th>\n",
       "      <td>excel</td>\n",
       "      <td>1808</td>\n",
       "      <td>41.563218</td>\n",
       "      <td>84392.00</td>\n",
       "    </tr>\n",
       "    <tr>\n",
       "      <th>2</th>\n",
       "      <td>python</td>\n",
       "      <td>1431</td>\n",
       "      <td>32.896552</td>\n",
       "      <td>97500.00</td>\n",
       "    </tr>\n",
       "    <tr>\n",
       "      <th>3</th>\n",
       "      <td>tableau</td>\n",
       "      <td>1364</td>\n",
       "      <td>31.356322</td>\n",
       "      <td>92875.00</td>\n",
       "    </tr>\n",
       "    <tr>\n",
       "      <th>4</th>\n",
       "      <td>sas</td>\n",
       "      <td>926</td>\n",
       "      <td>21.287356</td>\n",
       "      <td>90000.00</td>\n",
       "    </tr>\n",
       "    <tr>\n",
       "      <th>5</th>\n",
       "      <td>r</td>\n",
       "      <td>893</td>\n",
       "      <td>20.528736</td>\n",
       "      <td>92500.00</td>\n",
       "    </tr>\n",
       "    <tr>\n",
       "      <th>6</th>\n",
       "      <td>power bi</td>\n",
       "      <td>838</td>\n",
       "      <td>19.264368</td>\n",
       "      <td>90000.00</td>\n",
       "    </tr>\n",
       "    <tr>\n",
       "      <th>7</th>\n",
       "      <td>powerpoint</td>\n",
       "      <td>462</td>\n",
       "      <td>10.620690</td>\n",
       "      <td>85000.00</td>\n",
       "    </tr>\n",
       "    <tr>\n",
       "      <th>8</th>\n",
       "      <td>word</td>\n",
       "      <td>461</td>\n",
       "      <td>10.597701</td>\n",
       "      <td>81194.75</td>\n",
       "    </tr>\n",
       "    <tr>\n",
       "      <th>9</th>\n",
       "      <td>sql server</td>\n",
       "      <td>286</td>\n",
       "      <td>6.574713</td>\n",
       "      <td>92500.00</td>\n",
       "    </tr>\n",
       "    <tr>\n",
       "      <th>10</th>\n",
       "      <td>oracle</td>\n",
       "      <td>274</td>\n",
       "      <td>6.298851</td>\n",
       "      <td>96923.75</td>\n",
       "    </tr>\n",
       "    <tr>\n",
       "      <th>11</th>\n",
       "      <td>go</td>\n",
       "      <td>224</td>\n",
       "      <td>5.149425</td>\n",
       "      <td>90000.00</td>\n",
       "    </tr>\n",
       "  </tbody>\n",
       "</table>\n",
       "</div>"
      ],
      "text/plain": [
       "    job_skills  skill_count  skill_percent  median_salary\n",
       "0          sql         2508      57.655172       91000.00\n",
       "1        excel         1808      41.563218       84392.00\n",
       "2       python         1431      32.896552       97500.00\n",
       "3      tableau         1364      31.356322       92875.00\n",
       "4          sas          926      21.287356       90000.00\n",
       "5            r          893      20.528736       92500.00\n",
       "6     power bi          838      19.264368       90000.00\n",
       "7   powerpoint          462      10.620690       85000.00\n",
       "8         word          461      10.597701       81194.75\n",
       "9   sql server          286       6.574713       92500.00\n",
       "10      oracle          274       6.298851       96923.75\n",
       "11          go          224       5.149425       90000.00"
      ]
     },
     "execution_count": 46,
     "metadata": {},
     "output_type": "execute_result"
    }
   ],
   "source": [
    "final_df"
   ]
  },
  {
   "cell_type": "code",
   "execution_count": 51,
   "id": "ad10be36",
   "metadata": {},
   "outputs": [
    {
     "data": {
      "image/png": "[encoded data removed]",
      "text/plain": [
       "<Figure size 1000x600 with 1 Axes>"
      ]
     },
     "metadata": {},
     "output_type": "display_data"
    }
   ],
   "source": [
    "fig, ax = plt.subplots(figsize=(10, 6))\n",
    "\n",
    "sns.scatterplot(\n",
    "    data=final_df,\n",
    "    x='skill_percent',\n",
    "    y='median_salary',\n",
    "    ax=ax\n",
    ")\n",
    "\n",
    "# Подписываем каждую точку\n",
    "for i, row in final_df.iterrows():\n",
    "    ax.text(\n",
    "        row['skill_percent'],       # X-координата\n",
    "        row['median_salary'],       # Y-координата\n",
    "        row['job_skills'],          # подпись\n",
    "        fontsize=9, color=\"darkblue\", ha=\"left\", va=\"bottom\"\n",
    "    )\n",
    "\n",
    "ax.set_title(\"Skill % vs Median Salary for Data Analysts\", fontsize=14)\n",
    "ax.set_xlabel(\"Skill Percent\")\n",
    "ax.set_ylabel(\"Median Salary (USD)\")\n",
    "\n",
    "plt.show()"
   ]
  },
  {
   "cell_type": "code",
   "execution_count": null,
   "id": "ed5fb665",
   "metadata": {},
   "outputs": [
    {
     "data": {
      "text/plain": [
       "<generator object DataFrame.iterrows at 0x317a9d580>"
      ]
     },
     "execution_count": 52,
     "metadata": {},
     "output_type": "execute_result"
    }
   ],
   "source": [
    "import ast\n",
    "import seaborn as sns\n",
    "import pandas as pd\n",
    "from datasets import load_dataset\n",
    "import matplotlib.pyplot as plt\n",
    "\n",
    "dataset = load_dataset('lukebarousse/data_jobs')\n",
    "df = dataset['train'].to_pandas()\n",
    "\n",
    "df['job_posted_date'] = pd.to_datetime(df['job_posted_date'])\n",
    "df['job_skills'] = df['job_skills'].apply(lambda skill: ast.literal_eval(skill) if pd.notna(skill) else skill)\n",
    "\n",
    "df_DA_US = df[(df['job_country']  == 'United States') & (df['job_title_short'] == 'Data Analyst')]\n",
    "\n",
    "df_DA_US.dropna(subset = ['salary_year_avg'], inplace=True)\n",
    "\n",
    "df_DA_US_skills = df_DA_US.explode('job_skills')\n",
    "df_median_skill_salary =  df_DA_US_skills.groupby('job_skills')['salary_year_avg'].median().reset_index(name='median_salary')\n",
    "\n",
    "df_skills_percent = df_DA_US_skills['job_skills'].value_counts().reset_index(name='skill_count')\n",
    "\n",
    "total_jobs = df_DA_US['job_title_short'].value_counts().sum()\n",
    "\n",
    "df_skills_percent['skill_percent'] = df_skills_percent['skill_count'].div(total_jobs/100)\n",
    "\n",
    "final_df = df_skills_percent.merge(df_median_skill_salary)\n",
    "\n",
    "final_df = final_df.head(12)\n",
    "\n",
    "fig, ax = plt.subplots(figsize=(10, 6))\n",
    "\n",
    "sns.scatterplot(\n",
    "    data=final_df,\n",
    "    x='skill_percent',\n",
    "    y='median_salary',\n",
    "    ax=ax\n",
    ")\n",
    "\n",
    "# Подписываем каждую точку\n",
    "for i, row in final_df.iterrows():\n",
    "    ax.text(\n",
    "        row['skill_percent'],       # X-координата\n",
    "        row['median_salary'],       # Y-координата\n",
    "        row['job_skills'],          # подпись\n",
    "        fontsize=9, color=\"darkblue\", ha=\"left\", va=\"bottom\"\n",
    "    )\n",
    "\n",
    "ax.set_title(\"Skill % vs Median Salary for Data Analysts\", fontsize=14)\n",
    "ax.set_xlabel(\"Skill Percent\")\n",
    "ax.set_ylabel(\"Median Salary (USD)\")\n",
    "\n",
    "plt.show()"
   ]
  }
 ],
 "metadata": {
  "kernelspec": {
   "display_name": "my_project_env",
   "language": "python",
   "name": "python3"
  },
  "language_info": {
   "codemirror_mode": {
    "name": "ipython",
    "version": 3
   },
   "file_extension": ".py",
   "mimetype": "text/x-python",
   "name": "python",
   "nbconvert_exporter": "python",
   "pygments_lexer": "ipython3",
   "version": "3.13.5"
  }
 },
 "nbformat": 4,
 "nbformat_minor": 5
}
